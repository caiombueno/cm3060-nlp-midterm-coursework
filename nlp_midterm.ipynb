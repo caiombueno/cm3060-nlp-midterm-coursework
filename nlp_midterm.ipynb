{
 "cells": [
  {
   "cell_type": "markdown",
   "id": "5680dfe9-2737-4f97-a321-7959c4e7bd1b",
   "metadata": {},
   "source": [
    "# Coursework Assignment: Text classification"
   ]
  },
  {
   "cell_type": "markdown",
   "id": "e3ac5d07-96f2-4d7a-b900-69996362487e",
   "metadata": {},
   "source": [
    "# 1. Introduction"
   ]
  },
  {
   "cell_type": "markdown",
   "id": "200afd3b-4da1-41a9-a4c0-3d92335f1654",
   "metadata": {},
   "source": [
    "# Domain-Specific Area: Hate speech recognition on social medias\n",
    "\n",
    "The internet has allowed all kinds of people to express themselves and receive recognition for what they express. While this might seem beneficial to many, it has also brought some drawbacks.\n",
    "\n",
    "It has allowed people to say whatever they want in a 'more anonymous' manner, including harmful things. There are few to no consequences for those who publish inappropriate content on the internet.\n",
    "\n",
    "According to the research titled \"Social Media and Online Hate,\" \"The proliferation of hate online has become recognized as one of the biggest challenges to social media industries: ‘throughout 2020 and early 2021, major technology companies announced that they were taking unprecedented action against the hate speech, harassment … that had long flourished on their platforms … (yet) the level of online hate and harassment reported by users barely shifted’. Online hate is pervasive: surveys across several countries indicate that 42%–67% of young adults observed ‘hateful and degrading writings or speech online’, and 21% have been victims themselves\" [1].\n",
    "\n",
    "Because of this, social media platforms have implemented hate content detection features in their software to remove this content and provide a safer environment, enhancing user experience.\n",
    "\n",
    "Hate speech can be recognized using Natural Language Processing techniques such as text classification."
   ]
  },
  {
   "cell_type": "markdown",
   "id": "0edd74ca-38e1-4a9b-b872-34b93f839715",
   "metadata": {},
   "source": [
    "# References\n",
    "- [1] Smith, P., Jones, L., & Williams, A. (2021). Social media and online hate. _Current Opinion in Psychology_. [https://doi.org/10.1016/j.copsyc.2021.12.010](https://doi.org/10.1016/j.copsyc.2021.12.010)"
   ]
  }
 ],
 "metadata": {
  "kernelspec": {
   "display_name": "Python 3 (ipykernel)",
   "language": "python",
   "name": "python3"
  },
  "language_info": {
   "codemirror_mode": {
    "name": "ipython",
    "version": 3
   },
   "file_extension": ".py",
   "mimetype": "text/x-python",
   "name": "python",
   "nbconvert_exporter": "python",
   "pygments_lexer": "ipython3",
   "version": "3.12.4"
  }
 },
 "nbformat": 4,
 "nbformat_minor": 5
}
