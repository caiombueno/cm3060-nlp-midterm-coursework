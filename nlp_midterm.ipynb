{
 "cells": [
  {
   "cell_type": "markdown",
   "id": "5680dfe9-2737-4f97-a321-7959c4e7bd1b",
   "metadata": {},
   "source": [
    "# Coursework Assignment: Text classification"
   ]
  },
  {
   "cell_type": "markdown",
   "id": "e3ac5d07-96f2-4d7a-b900-69996362487e",
   "metadata": {},
   "source": [
    "# 1. Introduction"
   ]
  },
  {
   "cell_type": "markdown",
   "id": "200afd3b-4da1-41a9-a4c0-3d92335f1654",
   "metadata": {},
   "source": [
    "## Domain-Specific Area: Hate speech recognition on social medias\n",
    "\n",
    "The internet has allowed all kinds of people to express themselves and receive recognition for what they express. While this might seem beneficial to many, it has also brought some drawbacks.\n",
    "\n",
    "It has allowed people to say whatever they want in a 'more anonymous' manner, including harmful things. There are few to no consequences for those who publish inappropriate content on the internet.\n",
    "\n",
    "According to the research titled \"Social Media and Online Hate,\" \"The proliferation of hate online has become recognized as one of the biggest challenges to social media industries: ‘throughout 2020 and early 2021, major technology companies announced that they were taking unprecedented action against the hate speech, harassment … that had long flourished on their platforms … (yet) the level of online hate and harassment reported by users barely shifted’. Online hate is pervasive: surveys across several countries indicate that 42%–67% of young adults observed ‘hateful and degrading writings or speech online’, and 21% have been victims themselves\" [1].\n",
    "\n",
    "Because of this, social media platforms have implemented hate content detection features in their software to remove this content and provide a safer environment, enhancing user experience.\n",
    "\n",
    "Hate speech detection is challenging because it involves differentiating between hate and non-hate speech. Fortunately, we can use NLP techniques such as text classification. We will use two classifiers to achieve this and compare their performances."
   ]
  },
  {
   "cell_type": "markdown",
   "id": "98f3296d-a28a-43eb-8c11-593e75abc462",
   "metadata": {},
   "source": [
    "## Objectives\n",
    "\n",
    "\n",
    "We will build and compare the performance of two classifiers. By doing so, we can determine which model is more accurate and appropriate for detecting hate speech content.\n",
    "\n",
    "### Statistical\n",
    "\n",
    "We'll use the Naive Bayes algorithm to build a text classification model. According to GeeksForGeeks, 'The advantage of using Naive Bayes is its speed. It is fast, and making predictions is easy with high-dimensional data' [2]. Statistical models are generally simpler to implement and interpret compared to embedding-based models.\n",
    "\n",
    "### Embedding-based \n",
    "\n",
    "We'll use BERT, a pre-trained deep learning model, to build our second classifier. While embedding-based models are generally more powerful, they require more computational resources and potentially more data for training.\n"
   ]
  },
  {
   "cell_type": "markdown",
   "id": "35b2dde0-440b-4f56-977d-4079b28cf4a5",
   "metadata": {},
   "source": [
    "## Dataset description\n",
    "\n",
    "The dataset I'll be using is called Ethos. It is short for multi-labEl haTe speecH detectiOn dataSet. The contributors are Grigorios Tsoumakas, Ioannis Mollas, Zoe Chrysopoulou, and Stamatis Karlos. Their pre-print paper can be found [here](https://doi.org/10.1007/s40747-021-00608-2).\n",
    "\n",
    "It has two variants: multi-label and binary. However, only the binary variant will be necessary for this case.\n",
    "\n",
    "The file is 124 KB in size. It contains 998 comments along with a label indicating the presence or absence of hate speech. Of these, 565 do not contain hate speech, while the remaining 433 do.\n",
    "\n",
    "The first column contains strings (comments), and the second contains integers/booleans (0 or 1).\n",
    "\n",
    "The comments were extracted from YouTube and Reddit and validated using the [Figure-Eight](https://aws.amazon.com/financial-services/partner-solutions/figure-eight/) crowdsourcing platform."
   ]
  },
  {
   "cell_type": "markdown",
   "id": "0edd74ca-38e1-4a9b-b872-34b93f839715",
   "metadata": {},
   "source": [
    "# References\n",
    "- [1] Smith, P., Jones, L., & Williams, A. (2021). Social media and online hate. _Current Opinion in Psychology_. [https://doi.org/10.1016/j.copsyc.2021.12.010](https://doi.org/10.1016/j.copsyc.2021.12.010)\n",
    "- [2] GeeksforGeeks. _How to generate word embedding using BERT_. [https://www.geeksforgeeks.org/how-to-generate-word-embedding-using-bert/](https://www.geeksforgeeks.org/how-to-generate-word-embedding-using-bert/)"
   ]
  }
 ],
 "metadata": {
  "kernelspec": {
   "display_name": "Python 3 (ipykernel)",
   "language": "python",
   "name": "python3"
  },
  "language_info": {
   "codemirror_mode": {
    "name": "ipython",
    "version": 3
   },
   "file_extension": ".py",
   "mimetype": "text/x-python",
   "name": "python",
   "nbconvert_exporter": "python",
   "pygments_lexer": "ipython3",
   "version": "3.12.4"
  }
 },
 "nbformat": 4,
 "nbformat_minor": 5
}
